{
  "nbformat": 4,
  "nbformat_minor": 0,
  "metadata": {
    "colab": {
      "name": "multiple classification using iris.data.ipynb",
      "provenance": []
    },
    "kernelspec": {
      "name": "python3",
      "display_name": "Python 3"
    },
    "accelerator": "GPU"
  },
  "cells": [
    {
      "cell_type": "code",
      "metadata": {
        "colab": {
          "resources": {
            "http://localhost:8080/nbextensions/google.colab/files.js": {
              "data": "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",
              "ok": true,
              "headers": [
                [
                  "content-type",
                  "application/javascript"
                ]
              ],
              "status": 200,
              "status_text": ""
            }
          },
          "base_uri": "https://localhost:8080/",
          "height": 89
        },
        "id": "pmDKAnQv7qwV",
        "outputId": "41864be8-bfc6-45e5-e40b-b262dca5dbb0"
      },
      "source": [
        "from google.colab import files\r\n",
        "\r\n",
        "uploaded = files.upload()\r\n",
        "\r\n",
        "for fn in uploaded.keys():\r\n",
        "  print('User uploaded file \"{name}\" with length {length} bytes'.format(\r\n",
        "      name=fn, length=len(uploaded[fn])))"
      ],
      "execution_count": 16,
      "outputs": [
        {
          "output_type": "display_data",
          "data": {
            "text/html": [
              "\n",
              "     <input type=\"file\" id=\"files-d2ec748a-1622-4b85-a07c-b03981b93a5d\" name=\"files[]\" multiple disabled\n",
              "        style=\"border:none\" />\n",
              "     <output id=\"result-d2ec748a-1622-4b85-a07c-b03981b93a5d\">\n",
              "      Upload widget is only available when the cell has been executed in the\n",
              "      current browser session. Please rerun this cell to enable.\n",
              "      </output>\n",
              "      <script src=\"/nbextensions/google.colab/files.js\"></script> "
            ],
            "text/plain": [
              "<IPython.core.display.HTML object>"
            ]
          },
          "metadata": {
            "tags": []
          }
        },
        {
          "output_type": "stream",
          "text": [
            "Saving iris.data to iris (2).data\n",
            "User uploaded file \"iris.data\" with length 4551 bytes\n"
          ],
          "name": "stdout"
        }
      ]
    },
    {
      "cell_type": "code",
      "metadata": {
        "colab": {
          "base_uri": "https://localhost:8080/",
          "height": 204
        },
        "id": "_CTNC2la7rcZ",
        "outputId": "763066b6-ea18-41eb-fb48-e6088e4ea774"
      },
      "source": [
        "import pandas as pd\r\n",
        "import io\r\n",
        "data = pd.read_csv(io.StringIO(uploaded['iris.data'].decode('utf-8')))\r\n",
        "data.head()"
      ],
      "execution_count": 17,
      "outputs": [
        {
          "output_type": "execute_result",
          "data": {
            "text/html": [
              "<div>\n",
              "<style scoped>\n",
              "    .dataframe tbody tr th:only-of-type {\n",
              "        vertical-align: middle;\n",
              "    }\n",
              "\n",
              "    .dataframe tbody tr th {\n",
              "        vertical-align: top;\n",
              "    }\n",
              "\n",
              "    .dataframe thead th {\n",
              "        text-align: right;\n",
              "    }\n",
              "</style>\n",
              "<table border=\"1\" class=\"dataframe\">\n",
              "  <thead>\n",
              "    <tr style=\"text-align: right;\">\n",
              "      <th></th>\n",
              "      <th>5.1</th>\n",
              "      <th>3.5</th>\n",
              "      <th>1.4</th>\n",
              "      <th>0.2</th>\n",
              "      <th>Iris-setosa</th>\n",
              "    </tr>\n",
              "  </thead>\n",
              "  <tbody>\n",
              "    <tr>\n",
              "      <th>0</th>\n",
              "      <td>4.9</td>\n",
              "      <td>3.0</td>\n",
              "      <td>1.4</td>\n",
              "      <td>0.2</td>\n",
              "      <td>Iris-setosa</td>\n",
              "    </tr>\n",
              "    <tr>\n",
              "      <th>1</th>\n",
              "      <td>4.7</td>\n",
              "      <td>3.2</td>\n",
              "      <td>1.3</td>\n",
              "      <td>0.2</td>\n",
              "      <td>Iris-setosa</td>\n",
              "    </tr>\n",
              "    <tr>\n",
              "      <th>2</th>\n",
              "      <td>4.6</td>\n",
              "      <td>3.1</td>\n",
              "      <td>1.5</td>\n",
              "      <td>0.2</td>\n",
              "      <td>Iris-setosa</td>\n",
              "    </tr>\n",
              "    <tr>\n",
              "      <th>3</th>\n",
              "      <td>5.0</td>\n",
              "      <td>3.6</td>\n",
              "      <td>1.4</td>\n",
              "      <td>0.2</td>\n",
              "      <td>Iris-setosa</td>\n",
              "    </tr>\n",
              "    <tr>\n",
              "      <th>4</th>\n",
              "      <td>5.4</td>\n",
              "      <td>3.9</td>\n",
              "      <td>1.7</td>\n",
              "      <td>0.4</td>\n",
              "      <td>Iris-setosa</td>\n",
              "    </tr>\n",
              "  </tbody>\n",
              "</table>\n",
              "</div>"
            ],
            "text/plain": [
              "   5.1  3.5  1.4  0.2  Iris-setosa\n",
              "0  4.9  3.0  1.4  0.2  Iris-setosa\n",
              "1  4.7  3.2  1.3  0.2  Iris-setosa\n",
              "2  4.6  3.1  1.5  0.2  Iris-setosa\n",
              "3  5.0  3.6  1.4  0.2  Iris-setosa\n",
              "4  5.4  3.9  1.7  0.4  Iris-setosa"
            ]
          },
          "metadata": {
            "tags": []
          },
          "execution_count": 17
        }
      ]
    },
    {
      "cell_type": "code",
      "metadata": {
        "id": "JTbwI1IC8lEL"
      },
      "source": [
        "import keras\r\n",
        "from keras.models import Sequential\r\n",
        "from keras.layers import Dense\r\n",
        "from keras.optimizers import Adam\r\n",
        "import pydot\r\n",
        "import graphviz\r\n",
        "from IPython.display import SVG\r\n",
        "from keras.utils.vis_utils import model_to_dot\r\n",
        "from keras.utils import plot_model\r\n",
        "import seaborn as sns\r\n",
        "import numpy as np\r\n",
        "import pandas as pd\r\n"
      ],
      "execution_count": 18,
      "outputs": []
    },
    {
      "cell_type": "code",
      "metadata": {
        "colab": {
          "base_uri": "https://localhost:8080/",
          "height": 419
        },
        "id": "gCwTz0pA-LqH",
        "outputId": "d418562c-8d6e-40cf-c1c7-c1e226cb789d"
      },
      "source": [
        "dataset = pd.read_csv(\"iris.data\")\r\n",
        "dataset"
      ],
      "execution_count": 19,
      "outputs": [
        {
          "output_type": "execute_result",
          "data": {
            "text/html": [
              "<div>\n",
              "<style scoped>\n",
              "    .dataframe tbody tr th:only-of-type {\n",
              "        vertical-align: middle;\n",
              "    }\n",
              "\n",
              "    .dataframe tbody tr th {\n",
              "        vertical-align: top;\n",
              "    }\n",
              "\n",
              "    .dataframe thead th {\n",
              "        text-align: right;\n",
              "    }\n",
              "</style>\n",
              "<table border=\"1\" class=\"dataframe\">\n",
              "  <thead>\n",
              "    <tr style=\"text-align: right;\">\n",
              "      <th></th>\n",
              "      <th>5.1</th>\n",
              "      <th>3.5</th>\n",
              "      <th>1.4</th>\n",
              "      <th>0.2</th>\n",
              "      <th>Iris-setosa</th>\n",
              "    </tr>\n",
              "  </thead>\n",
              "  <tbody>\n",
              "    <tr>\n",
              "      <th>0</th>\n",
              "      <td>4.9</td>\n",
              "      <td>3.0</td>\n",
              "      <td>1.4</td>\n",
              "      <td>0.2</td>\n",
              "      <td>Iris-setosa</td>\n",
              "    </tr>\n",
              "    <tr>\n",
              "      <th>1</th>\n",
              "      <td>4.7</td>\n",
              "      <td>3.2</td>\n",
              "      <td>1.3</td>\n",
              "      <td>0.2</td>\n",
              "      <td>Iris-setosa</td>\n",
              "    </tr>\n",
              "    <tr>\n",
              "      <th>2</th>\n",
              "      <td>4.6</td>\n",
              "      <td>3.1</td>\n",
              "      <td>1.5</td>\n",
              "      <td>0.2</td>\n",
              "      <td>Iris-setosa</td>\n",
              "    </tr>\n",
              "    <tr>\n",
              "      <th>3</th>\n",
              "      <td>5.0</td>\n",
              "      <td>3.6</td>\n",
              "      <td>1.4</td>\n",
              "      <td>0.2</td>\n",
              "      <td>Iris-setosa</td>\n",
              "    </tr>\n",
              "    <tr>\n",
              "      <th>4</th>\n",
              "      <td>5.4</td>\n",
              "      <td>3.9</td>\n",
              "      <td>1.7</td>\n",
              "      <td>0.4</td>\n",
              "      <td>Iris-setosa</td>\n",
              "    </tr>\n",
              "    <tr>\n",
              "      <th>...</th>\n",
              "      <td>...</td>\n",
              "      <td>...</td>\n",
              "      <td>...</td>\n",
              "      <td>...</td>\n",
              "      <td>...</td>\n",
              "    </tr>\n",
              "    <tr>\n",
              "      <th>144</th>\n",
              "      <td>6.7</td>\n",
              "      <td>3.0</td>\n",
              "      <td>5.2</td>\n",
              "      <td>2.3</td>\n",
              "      <td>Iris-virginica</td>\n",
              "    </tr>\n",
              "    <tr>\n",
              "      <th>145</th>\n",
              "      <td>6.3</td>\n",
              "      <td>2.5</td>\n",
              "      <td>5.0</td>\n",
              "      <td>1.9</td>\n",
              "      <td>Iris-virginica</td>\n",
              "    </tr>\n",
              "    <tr>\n",
              "      <th>146</th>\n",
              "      <td>6.5</td>\n",
              "      <td>3.0</td>\n",
              "      <td>5.2</td>\n",
              "      <td>2.0</td>\n",
              "      <td>Iris-virginica</td>\n",
              "    </tr>\n",
              "    <tr>\n",
              "      <th>147</th>\n",
              "      <td>6.2</td>\n",
              "      <td>3.4</td>\n",
              "      <td>5.4</td>\n",
              "      <td>2.3</td>\n",
              "      <td>Iris-virginica</td>\n",
              "    </tr>\n",
              "    <tr>\n",
              "      <th>148</th>\n",
              "      <td>5.9</td>\n",
              "      <td>3.0</td>\n",
              "      <td>5.1</td>\n",
              "      <td>1.8</td>\n",
              "      <td>Iris-virginica</td>\n",
              "    </tr>\n",
              "  </tbody>\n",
              "</table>\n",
              "<p>149 rows × 5 columns</p>\n",
              "</div>"
            ],
            "text/plain": [
              "     5.1  3.5  1.4  0.2     Iris-setosa\n",
              "0    4.9  3.0  1.4  0.2     Iris-setosa\n",
              "1    4.7  3.2  1.3  0.2     Iris-setosa\n",
              "2    4.6  3.1  1.5  0.2     Iris-setosa\n",
              "3    5.0  3.6  1.4  0.2     Iris-setosa\n",
              "4    5.4  3.9  1.7  0.4     Iris-setosa\n",
              "..   ...  ...  ...  ...             ...\n",
              "144  6.7  3.0  5.2  2.3  Iris-virginica\n",
              "145  6.3  2.5  5.0  1.9  Iris-virginica\n",
              "146  6.5  3.0  5.2  2.0  Iris-virginica\n",
              "147  6.2  3.4  5.4  2.3  Iris-virginica\n",
              "148  5.9  3.0  5.1  1.8  Iris-virginica\n",
              "\n",
              "[149 rows x 5 columns]"
            ]
          },
          "metadata": {
            "tags": []
          },
          "execution_count": 19
        }
      ]
    },
    {
      "cell_type": "code",
      "metadata": {
        "id": "aBHizEIG-aOP"
      },
      "source": [
        "X = dataset.iloc[:,0:4].values\r\n",
        "y = dataset.iloc[:,4].values\r\n",
        "from sklearn.preprocessing import LabelEncoder\r\n",
        "encoder = LabelEncoder()\r\n",
        "y1 = encoder.fit_transform(y)\r\n",
        "Y = pd.get_dummies(y1).values\r\n",
        "from sklearn.model_selection import train_test_split\r\n",
        "X_train, X_test, y_train, y_test = train_test_split(X,Y,test_size=0.2,random_state=0)\r\n"
      ],
      "execution_count": 20,
      "outputs": []
    },
    {
      "cell_type": "code",
      "metadata": {
        "colab": {
          "base_uri": "https://localhost:8080/"
        },
        "id": "MzRDW0hlAf5J",
        "outputId": "13bf32d0-a0db-44a4-a7ec-5cdb69b238b2"
      },
      "source": [
        "y1"
      ],
      "execution_count": 21,
      "outputs": [
        {
          "output_type": "execute_result",
          "data": {
            "text/plain": [
              "array([0, 0, 0, 0, 0, 0, 0, 0, 0, 0, 0, 0, 0, 0, 0, 0, 0, 0, 0, 0, 0, 0,\n",
              "       0, 0, 0, 0, 0, 0, 0, 0, 0, 0, 0, 0, 0, 0, 0, 0, 0, 0, 0, 0, 0, 0,\n",
              "       0, 0, 0, 0, 0, 1, 1, 1, 1, 1, 1, 1, 1, 1, 1, 1, 1, 1, 1, 1, 1, 1,\n",
              "       1, 1, 1, 1, 1, 1, 1, 1, 1, 1, 1, 1, 1, 1, 1, 1, 1, 1, 1, 1, 1, 1,\n",
              "       1, 1, 1, 1, 1, 1, 1, 1, 1, 1, 1, 2, 2, 2, 2, 2, 2, 2, 2, 2, 2, 2,\n",
              "       2, 2, 2, 2, 2, 2, 2, 2, 2, 2, 2, 2, 2, 2, 2, 2, 2, 2, 2, 2, 2, 2,\n",
              "       2, 2, 2, 2, 2, 2, 2, 2, 2, 2, 2, 2, 2, 2, 2, 2, 2])"
            ]
          },
          "metadata": {
            "tags": []
          },
          "execution_count": 21
        }
      ]
    },
    {
      "cell_type": "code",
      "metadata": {
        "colab": {
          "base_uri": "https://localhost:8080/"
        },
        "id": "6phZy06TAo7V",
        "outputId": "4329a703-e86c-44e2-ee5a-6bc1e61901ac"
      },
      "source": [
        "Y"
      ],
      "execution_count": 22,
      "outputs": [
        {
          "output_type": "execute_result",
          "data": {
            "text/plain": [
              "array([[1, 0, 0],\n",
              "       [1, 0, 0],\n",
              "       [1, 0, 0],\n",
              "       [1, 0, 0],\n",
              "       [1, 0, 0],\n",
              "       [1, 0, 0],\n",
              "       [1, 0, 0],\n",
              "       [1, 0, 0],\n",
              "       [1, 0, 0],\n",
              "       [1, 0, 0],\n",
              "       [1, 0, 0],\n",
              "       [1, 0, 0],\n",
              "       [1, 0, 0],\n",
              "       [1, 0, 0],\n",
              "       [1, 0, 0],\n",
              "       [1, 0, 0],\n",
              "       [1, 0, 0],\n",
              "       [1, 0, 0],\n",
              "       [1, 0, 0],\n",
              "       [1, 0, 0],\n",
              "       [1, 0, 0],\n",
              "       [1, 0, 0],\n",
              "       [1, 0, 0],\n",
              "       [1, 0, 0],\n",
              "       [1, 0, 0],\n",
              "       [1, 0, 0],\n",
              "       [1, 0, 0],\n",
              "       [1, 0, 0],\n",
              "       [1, 0, 0],\n",
              "       [1, 0, 0],\n",
              "       [1, 0, 0],\n",
              "       [1, 0, 0],\n",
              "       [1, 0, 0],\n",
              "       [1, 0, 0],\n",
              "       [1, 0, 0],\n",
              "       [1, 0, 0],\n",
              "       [1, 0, 0],\n",
              "       [1, 0, 0],\n",
              "       [1, 0, 0],\n",
              "       [1, 0, 0],\n",
              "       [1, 0, 0],\n",
              "       [1, 0, 0],\n",
              "       [1, 0, 0],\n",
              "       [1, 0, 0],\n",
              "       [1, 0, 0],\n",
              "       [1, 0, 0],\n",
              "       [1, 0, 0],\n",
              "       [1, 0, 0],\n",
              "       [1, 0, 0],\n",
              "       [0, 1, 0],\n",
              "       [0, 1, 0],\n",
              "       [0, 1, 0],\n",
              "       [0, 1, 0],\n",
              "       [0, 1, 0],\n",
              "       [0, 1, 0],\n",
              "       [0, 1, 0],\n",
              "       [0, 1, 0],\n",
              "       [0, 1, 0],\n",
              "       [0, 1, 0],\n",
              "       [0, 1, 0],\n",
              "       [0, 1, 0],\n",
              "       [0, 1, 0],\n",
              "       [0, 1, 0],\n",
              "       [0, 1, 0],\n",
              "       [0, 1, 0],\n",
              "       [0, 1, 0],\n",
              "       [0, 1, 0],\n",
              "       [0, 1, 0],\n",
              "       [0, 1, 0],\n",
              "       [0, 1, 0],\n",
              "       [0, 1, 0],\n",
              "       [0, 1, 0],\n",
              "       [0, 1, 0],\n",
              "       [0, 1, 0],\n",
              "       [0, 1, 0],\n",
              "       [0, 1, 0],\n",
              "       [0, 1, 0],\n",
              "       [0, 1, 0],\n",
              "       [0, 1, 0],\n",
              "       [0, 1, 0],\n",
              "       [0, 1, 0],\n",
              "       [0, 1, 0],\n",
              "       [0, 1, 0],\n",
              "       [0, 1, 0],\n",
              "       [0, 1, 0],\n",
              "       [0, 1, 0],\n",
              "       [0, 1, 0],\n",
              "       [0, 1, 0],\n",
              "       [0, 1, 0],\n",
              "       [0, 1, 0],\n",
              "       [0, 1, 0],\n",
              "       [0, 1, 0],\n",
              "       [0, 1, 0],\n",
              "       [0, 1, 0],\n",
              "       [0, 1, 0],\n",
              "       [0, 1, 0],\n",
              "       [0, 1, 0],\n",
              "       [0, 1, 0],\n",
              "       [0, 1, 0],\n",
              "       [0, 0, 1],\n",
              "       [0, 0, 1],\n",
              "       [0, 0, 1],\n",
              "       [0, 0, 1],\n",
              "       [0, 0, 1],\n",
              "       [0, 0, 1],\n",
              "       [0, 0, 1],\n",
              "       [0, 0, 1],\n",
              "       [0, 0, 1],\n",
              "       [0, 0, 1],\n",
              "       [0, 0, 1],\n",
              "       [0, 0, 1],\n",
              "       [0, 0, 1],\n",
              "       [0, 0, 1],\n",
              "       [0, 0, 1],\n",
              "       [0, 0, 1],\n",
              "       [0, 0, 1],\n",
              "       [0, 0, 1],\n",
              "       [0, 0, 1],\n",
              "       [0, 0, 1],\n",
              "       [0, 0, 1],\n",
              "       [0, 0, 1],\n",
              "       [0, 0, 1],\n",
              "       [0, 0, 1],\n",
              "       [0, 0, 1],\n",
              "       [0, 0, 1],\n",
              "       [0, 0, 1],\n",
              "       [0, 0, 1],\n",
              "       [0, 0, 1],\n",
              "       [0, 0, 1],\n",
              "       [0, 0, 1],\n",
              "       [0, 0, 1],\n",
              "       [0, 0, 1],\n",
              "       [0, 0, 1],\n",
              "       [0, 0, 1],\n",
              "       [0, 0, 1],\n",
              "       [0, 0, 1],\n",
              "       [0, 0, 1],\n",
              "       [0, 0, 1],\n",
              "       [0, 0, 1],\n",
              "       [0, 0, 1],\n",
              "       [0, 0, 1],\n",
              "       [0, 0, 1],\n",
              "       [0, 0, 1],\n",
              "       [0, 0, 1],\n",
              "       [0, 0, 1],\n",
              "       [0, 0, 1],\n",
              "       [0, 0, 1],\n",
              "       [0, 0, 1],\n",
              "       [0, 0, 1]], dtype=uint8)"
            ]
          },
          "metadata": {
            "tags": []
          },
          "execution_count": 22
        }
      ]
    },
    {
      "cell_type": "code",
      "metadata": {
        "id": "Z3KSdZXAAzD8"
      },
      "source": [
        "model = Sequential()\r\n",
        "model.add(Dense(4,input_shape=(4,), activation='relu'))\r\n",
        "model.add(Dense(3, activation='softmax'))"
      ],
      "execution_count": 23,
      "outputs": []
    },
    {
      "cell_type": "code",
      "metadata": {
        "id": "3acOjFhICTXQ"
      },
      "source": [
        "model.compile(optimizer=\"adam\", loss='categorical_crossentropy',metrics=['accuracy'])"
      ],
      "execution_count": 24,
      "outputs": []
    },
    {
      "cell_type": "code",
      "metadata": {
        "colab": {
          "base_uri": "https://localhost:8080/"
        },
        "id": "V224greQDNyN",
        "outputId": "d6abfc2e-e544-4dde-e405-085fab6af68e"
      },
      "source": [
        "model.fit(X_train, y_train, batch_size=10,epochs=100)"
      ],
      "execution_count": 25,
      "outputs": [
        {
          "output_type": "stream",
          "text": [
            "Epoch 1/100\n",
            "12/12 [==============================] - 0s 2ms/step - loss: 6.5987 - accuracy: 0.3844\n",
            "Epoch 2/100\n",
            "12/12 [==============================] - 0s 2ms/step - loss: 5.8808 - accuracy: 0.4211\n",
            "Epoch 3/100\n",
            "12/12 [==============================] - 0s 2ms/step - loss: 5.8715 - accuracy: 0.3686\n",
            "Epoch 4/100\n",
            "12/12 [==============================] - 0s 2ms/step - loss: 5.4410 - accuracy: 0.4155\n",
            "Epoch 5/100\n",
            "12/12 [==============================] - 0s 2ms/step - loss: 5.7188 - accuracy: 0.3026\n",
            "Epoch 6/100\n",
            "12/12 [==============================] - 0s 2ms/step - loss: 5.3415 - accuracy: 0.3186\n",
            "Epoch 7/100\n",
            "12/12 [==============================] - 0s 2ms/step - loss: 4.1567 - accuracy: 0.3883\n",
            "Epoch 8/100\n",
            "12/12 [==============================] - 0s 2ms/step - loss: 4.4643 - accuracy: 0.2992\n",
            "Epoch 9/100\n",
            "12/12 [==============================] - 0s 2ms/step - loss: 3.6006 - accuracy: 0.3805\n",
            "Epoch 10/100\n",
            "12/12 [==============================] - 0s 2ms/step - loss: 3.7749 - accuracy: 0.2829\n",
            "Epoch 11/100\n",
            "12/12 [==============================] - 0s 2ms/step - loss: 3.0463 - accuracy: 0.3062\n",
            "Epoch 12/100\n",
            "12/12 [==============================] - 0s 2ms/step - loss: 2.4982 - accuracy: 0.3457\n",
            "Epoch 13/100\n",
            "12/12 [==============================] - 0s 2ms/step - loss: 2.0710 - accuracy: 0.4063\n",
            "Epoch 14/100\n",
            "12/12 [==============================] - 0s 2ms/step - loss: 1.8223 - accuracy: 0.4081\n",
            "Epoch 15/100\n",
            "12/12 [==============================] - 0s 2ms/step - loss: 1.8357 - accuracy: 0.3610\n",
            "Epoch 16/100\n",
            "12/12 [==============================] - 0s 2ms/step - loss: 1.5637 - accuracy: 0.3583\n",
            "Epoch 17/100\n",
            "12/12 [==============================] - 0s 2ms/step - loss: 1.5945 - accuracy: 0.2955\n",
            "Epoch 18/100\n",
            "12/12 [==============================] - 0s 2ms/step - loss: 1.4379 - accuracy: 0.2859\n",
            "Epoch 19/100\n",
            "12/12 [==============================] - 0s 2ms/step - loss: 1.2793 - accuracy: 0.2756\n",
            "Epoch 20/100\n",
            "12/12 [==============================] - 0s 2ms/step - loss: 1.2460 - accuracy: 0.3319\n",
            "Epoch 21/100\n",
            "12/12 [==============================] - 0s 2ms/step - loss: 1.1558 - accuracy: 0.3734\n",
            "Epoch 22/100\n",
            "12/12 [==============================] - 0s 2ms/step - loss: 1.1838 - accuracy: 0.3112\n",
            "Epoch 23/100\n",
            "12/12 [==============================] - 0s 2ms/step - loss: 1.1586 - accuracy: 0.2942\n",
            "Epoch 24/100\n",
            "12/12 [==============================] - 0s 2ms/step - loss: 1.0887 - accuracy: 0.3139\n",
            "Epoch 25/100\n",
            "12/12 [==============================] - 0s 2ms/step - loss: 1.0557 - accuracy: 0.3898\n",
            "Epoch 26/100\n",
            "12/12 [==============================] - 0s 2ms/step - loss: 1.0781 - accuracy: 0.2962\n",
            "Epoch 27/100\n",
            "12/12 [==============================] - 0s 2ms/step - loss: 1.0824 - accuracy: 0.2751\n",
            "Epoch 28/100\n",
            "12/12 [==============================] - 0s 3ms/step - loss: 1.0402 - accuracy: 0.3783\n",
            "Epoch 29/100\n",
            "12/12 [==============================] - 0s 2ms/step - loss: 1.0613 - accuracy: 0.3920\n",
            "Epoch 30/100\n",
            "12/12 [==============================] - 0s 2ms/step - loss: 1.0326 - accuracy: 0.4902\n",
            "Epoch 31/100\n",
            "12/12 [==============================] - 0s 2ms/step - loss: 1.0233 - accuracy: 0.4815\n",
            "Epoch 32/100\n",
            "12/12 [==============================] - 0s 2ms/step - loss: 0.9991 - accuracy: 0.5066\n",
            "Epoch 33/100\n",
            "12/12 [==============================] - 0s 2ms/step - loss: 1.0032 - accuracy: 0.5229\n",
            "Epoch 34/100\n",
            "12/12 [==============================] - 0s 2ms/step - loss: 1.0089 - accuracy: 0.4631\n",
            "Epoch 35/100\n",
            "12/12 [==============================] - 0s 2ms/step - loss: 0.9923 - accuracy: 0.5244\n",
            "Epoch 36/100\n",
            "12/12 [==============================] - 0s 2ms/step - loss: 0.9973 - accuracy: 0.4876\n",
            "Epoch 37/100\n",
            "12/12 [==============================] - 0s 2ms/step - loss: 0.9639 - accuracy: 0.6055\n",
            "Epoch 38/100\n",
            "12/12 [==============================] - 0s 2ms/step - loss: 0.9702 - accuracy: 0.5528\n",
            "Epoch 39/100\n",
            "12/12 [==============================] - 0s 2ms/step - loss: 0.9940 - accuracy: 0.5005\n",
            "Epoch 40/100\n",
            "12/12 [==============================] - 0s 2ms/step - loss: 0.9509 - accuracy: 0.5723\n",
            "Epoch 41/100\n",
            "12/12 [==============================] - 0s 2ms/step - loss: 0.9559 - accuracy: 0.5838\n",
            "Epoch 42/100\n",
            "12/12 [==============================] - 0s 2ms/step - loss: 0.9648 - accuracy: 0.5542\n",
            "Epoch 43/100\n",
            "12/12 [==============================] - 0s 2ms/step - loss: 0.9812 - accuracy: 0.5043\n",
            "Epoch 44/100\n",
            "12/12 [==============================] - 0s 2ms/step - loss: 0.9543 - accuracy: 0.5518\n",
            "Epoch 45/100\n",
            "12/12 [==============================] - 0s 2ms/step - loss: 0.9652 - accuracy: 0.5798\n",
            "Epoch 46/100\n",
            "12/12 [==============================] - 0s 2ms/step - loss: 0.9629 - accuracy: 0.5697\n",
            "Epoch 47/100\n",
            "12/12 [==============================] - 0s 2ms/step - loss: 0.9222 - accuracy: 0.5686\n",
            "Epoch 48/100\n",
            "12/12 [==============================] - 0s 2ms/step - loss: 0.9227 - accuracy: 0.5983\n",
            "Epoch 49/100\n",
            "12/12 [==============================] - 0s 2ms/step - loss: 0.9405 - accuracy: 0.5775\n",
            "Epoch 50/100\n",
            "12/12 [==============================] - 0s 2ms/step - loss: 0.9087 - accuracy: 0.6185\n",
            "Epoch 51/100\n",
            "12/12 [==============================] - 0s 2ms/step - loss: 0.9484 - accuracy: 0.5532\n",
            "Epoch 52/100\n",
            "12/12 [==============================] - 0s 2ms/step - loss: 0.9588 - accuracy: 0.5527\n",
            "Epoch 53/100\n",
            "12/12 [==============================] - 0s 2ms/step - loss: 0.9525 - accuracy: 0.5435\n",
            "Epoch 54/100\n",
            "12/12 [==============================] - 0s 2ms/step - loss: 0.9150 - accuracy: 0.6108\n",
            "Epoch 55/100\n",
            "12/12 [==============================] - 0s 2ms/step - loss: 0.9235 - accuracy: 0.5623\n",
            "Epoch 56/100\n",
            "12/12 [==============================] - 0s 2ms/step - loss: 0.9096 - accuracy: 0.5699\n",
            "Epoch 57/100\n",
            "12/12 [==============================] - 0s 2ms/step - loss: 0.9163 - accuracy: 0.5652\n",
            "Epoch 58/100\n",
            "12/12 [==============================] - 0s 2ms/step - loss: 0.8776 - accuracy: 0.6068\n",
            "Epoch 59/100\n",
            "12/12 [==============================] - 0s 2ms/step - loss: 0.9380 - accuracy: 0.4998\n",
            "Epoch 60/100\n",
            "12/12 [==============================] - 0s 2ms/step - loss: 0.9132 - accuracy: 0.5379\n",
            "Epoch 61/100\n",
            "12/12 [==============================] - 0s 2ms/step - loss: 0.9217 - accuracy: 0.5406\n",
            "Epoch 62/100\n",
            "12/12 [==============================] - 0s 2ms/step - loss: 0.9317 - accuracy: 0.5277\n",
            "Epoch 63/100\n",
            "12/12 [==============================] - 0s 2ms/step - loss: 0.9309 - accuracy: 0.4967\n",
            "Epoch 64/100\n",
            "12/12 [==============================] - 0s 2ms/step - loss: 0.9018 - accuracy: 0.5279\n",
            "Epoch 65/100\n",
            "12/12 [==============================] - 0s 2ms/step - loss: 0.8914 - accuracy: 0.5404\n",
            "Epoch 66/100\n",
            "12/12 [==============================] - 0s 2ms/step - loss: 0.8874 - accuracy: 0.5783\n",
            "Epoch 67/100\n",
            "12/12 [==============================] - 0s 2ms/step - loss: 0.9168 - accuracy: 0.5257\n",
            "Epoch 68/100\n",
            "12/12 [==============================] - 0s 2ms/step - loss: 0.9393 - accuracy: 0.4917\n",
            "Epoch 69/100\n",
            "12/12 [==============================] - 0s 2ms/step - loss: 0.9182 - accuracy: 0.5534\n",
            "Epoch 70/100\n",
            "12/12 [==============================] - 0s 2ms/step - loss: 0.8638 - accuracy: 0.6021\n",
            "Epoch 71/100\n",
            "12/12 [==============================] - 0s 2ms/step - loss: 0.9135 - accuracy: 0.5310\n",
            "Epoch 72/100\n",
            "12/12 [==============================] - 0s 2ms/step - loss: 0.8923 - accuracy: 0.5158\n",
            "Epoch 73/100\n",
            "12/12 [==============================] - 0s 3ms/step - loss: 0.8905 - accuracy: 0.5338\n",
            "Epoch 74/100\n",
            "12/12 [==============================] - 0s 2ms/step - loss: 0.9021 - accuracy: 0.5409\n",
            "Epoch 75/100\n",
            "12/12 [==============================] - 0s 2ms/step - loss: 0.8772 - accuracy: 0.5594\n",
            "Epoch 76/100\n",
            "12/12 [==============================] - 0s 2ms/step - loss: 0.9356 - accuracy: 0.4950\n",
            "Epoch 77/100\n",
            "12/12 [==============================] - 0s 2ms/step - loss: 0.9088 - accuracy: 0.5047\n",
            "Epoch 78/100\n",
            "12/12 [==============================] - 0s 2ms/step - loss: 0.8599 - accuracy: 0.5580\n",
            "Epoch 79/100\n",
            "12/12 [==============================] - 0s 2ms/step - loss: 0.8745 - accuracy: 0.5525\n",
            "Epoch 80/100\n",
            "12/12 [==============================] - 0s 2ms/step - loss: 0.8771 - accuracy: 0.5289\n",
            "Epoch 81/100\n",
            "12/12 [==============================] - 0s 2ms/step - loss: 0.8636 - accuracy: 0.5545\n",
            "Epoch 82/100\n",
            "12/12 [==============================] - 0s 2ms/step - loss: 0.8471 - accuracy: 0.5518\n",
            "Epoch 83/100\n",
            "12/12 [==============================] - 0s 2ms/step - loss: 0.8557 - accuracy: 0.5607\n",
            "Epoch 84/100\n",
            "12/12 [==============================] - 0s 2ms/step - loss: 0.8718 - accuracy: 0.5101\n",
            "Epoch 85/100\n",
            "12/12 [==============================] - 0s 2ms/step - loss: 0.8622 - accuracy: 0.5943\n",
            "Epoch 86/100\n",
            "12/12 [==============================] - 0s 2ms/step - loss: 0.8853 - accuracy: 0.5390\n",
            "Epoch 87/100\n",
            "12/12 [==============================] - 0s 2ms/step - loss: 0.8332 - accuracy: 0.5971\n",
            "Epoch 88/100\n",
            "12/12 [==============================] - 0s 2ms/step - loss: 0.8417 - accuracy: 0.6013\n",
            "Epoch 89/100\n",
            "12/12 [==============================] - 0s 2ms/step - loss: 0.8690 - accuracy: 0.5556\n",
            "Epoch 90/100\n",
            "12/12 [==============================] - 0s 2ms/step - loss: 0.8541 - accuracy: 0.5994\n",
            "Epoch 91/100\n",
            "12/12 [==============================] - 0s 2ms/step - loss: 0.8621 - accuracy: 0.5651\n",
            "Epoch 92/100\n",
            "12/12 [==============================] - 0s 2ms/step - loss: 0.8655 - accuracy: 0.5208\n",
            "Epoch 93/100\n",
            "12/12 [==============================] - 0s 2ms/step - loss: 0.8572 - accuracy: 0.5662\n",
            "Epoch 94/100\n",
            "12/12 [==============================] - 0s 2ms/step - loss: 0.8594 - accuracy: 0.5371\n",
            "Epoch 95/100\n",
            "12/12 [==============================] - 0s 2ms/step - loss: 0.8523 - accuracy: 0.5359\n",
            "Epoch 96/100\n",
            "12/12 [==============================] - 0s 2ms/step - loss: 0.8156 - accuracy: 0.5293\n",
            "Epoch 97/100\n",
            "12/12 [==============================] - 0s 2ms/step - loss: 0.8415 - accuracy: 0.5266\n",
            "Epoch 98/100\n",
            "12/12 [==============================] - 0s 2ms/step - loss: 0.8363 - accuracy: 0.5523\n",
            "Epoch 99/100\n",
            "12/12 [==============================] - 0s 2ms/step - loss: 0.8239 - accuracy: 0.5451\n",
            "Epoch 100/100\n",
            "12/12 [==============================] - 0s 2ms/step - loss: 0.8433 - accuracy: 0.5754\n"
          ],
          "name": "stdout"
        },
        {
          "output_type": "execute_result",
          "data": {
            "text/plain": [
              "<tensorflow.python.keras.callbacks.History at 0x7fd192f1c630>"
            ]
          },
          "metadata": {
            "tags": []
          },
          "execution_count": 25
        }
      ]
    },
    {
      "cell_type": "code",
      "metadata": {
        "id": "Q5qVI3XEEBRd"
      },
      "source": [
        "y_pred = model.predict(X_test)\r\n",
        "y_test_class = np.argmax(y_test,axis=1)\r\n",
        "y_pred_class = np.argmax(y_pred, axis=1)\r\n"
      ],
      "execution_count": 26,
      "outputs": []
    },
    {
      "cell_type": "code",
      "metadata": {
        "colab": {
          "base_uri": "https://localhost:8080/"
        },
        "id": "0iLbSf-iIVgj",
        "outputId": "91fce02d-fdf2-4b7c-ee32-b71467f831e8"
      },
      "source": [
        "from sklearn.metrics import classification_report, confusion_matrix\r\n",
        "print(classification_report(y_test_class,y_pred_class))\r\n",
        "print(confusion_matrix(y_test_class,y_pred_class))"
      ],
      "execution_count": 27,
      "outputs": [
        {
          "output_type": "stream",
          "text": [
            "              precision    recall  f1-score   support\n",
            "\n",
            "           0       0.00      0.00      0.00        12\n",
            "           1       0.20      0.30      0.24        10\n",
            "           2       0.53      1.00      0.70         8\n",
            "\n",
            "    accuracy                           0.37        30\n",
            "   macro avg       0.24      0.43      0.31        30\n",
            "weighted avg       0.21      0.37      0.27        30\n",
            "\n",
            "[[ 0 12  0]\n",
            " [ 0  3  7]\n",
            " [ 0  0  8]]\n"
          ],
          "name": "stdout"
        },
        {
          "output_type": "stream",
          "text": [
            "/usr/local/lib/python3.6/dist-packages/sklearn/metrics/_classification.py:1272: UndefinedMetricWarning: Precision and F-score are ill-defined and being set to 0.0 in labels with no predicted samples. Use `zero_division` parameter to control this behavior.\n",
            "  _warn_prf(average, modifier, msg_start, len(result))\n"
          ],
          "name": "stderr"
        }
      ]
    },
    {
      "cell_type": "code",
      "metadata": {
        "id": "Bcoez9NfJFSP"
      },
      "source": [
        ""
      ],
      "execution_count": 27,
      "outputs": []
    }
  ]
}